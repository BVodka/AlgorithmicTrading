{
 "cells": [
  {
   "cell_type": "markdown",
   "metadata": {},
   "source": [
    "# Trading using Google Trends\n",
    "\n",
    "If we take into account the frequency of certain key workds in Google searches we can construct the following strategy:\n",
    "\n",
    "**1. Collect data on an Index**\n",
    "\n",
    "**2. Collect Google trends data** collect it on a particular keyword, e.g. \"debt\"\n",
    "\n",
    "**3. Download data in CSV format**"
   ]
  },
  {
   "cell_type": "code",
   "execution_count": 17,
   "metadata": {
    "scrolled": false
   },
   "outputs": [
    {
     "name": "stderr",
     "output_type": "stream",
     "text": [
      "Warning message:\n",
      "\"DJI contains missing values. Some functions will not work if objects contain missing values in the middle of the series. Consider using na.omit(), na.approx(), na.fill(), etc to remove or replace them.\""
     ]
    },
    {
     "data": {
      "text/html": [
       "'DJI'"
      ],
      "text/latex": [
       "'DJI'"
      ],
      "text/markdown": [
       "'DJI'"
      ],
      "text/plain": [
       "[1] \"DJI\""
      ]
     },
     "metadata": {},
     "output_type": "display_data"
    },
    {
     "data": {
      "image/png": "[encoded data removed]",
      "text/plain": [
       "plot without title"
      ]
     },
     "metadata": {},
     "output_type": "display_data"
    }
   ],
   "source": [
    "library(quantmod)\n",
    "getSymbols(\"DJI\", from = \"2004-01-01\", to = Sys.Date())\n",
    "dji <- na.omit(DJI)\n",
    "google_trend_debt <- read.csv(\"DebtGoogleTrends.csv\", skip = 1)\n",
    "plot(google_trend_debt$Month, google_trend_debt$debt...Worldwide., lwd = 2, pch = 4)\n",
    "     "
   ]
  },
  {
   "cell_type": "markdown",
   "metadata": {},
   "source": [
    "## Unpacking the Trading Strategy\n",
    "\n",
    "If the searched for Google term have:\n",
    "\n",
    "$\\begin{cases} \\uparrow \\text{at the end of a three-week period} \\rightarrow \\text{Expected upturn in the market} \\rightarrow \\text{Long Position} \\\\ \\downarrow \\text{at the end of a 3-week period} \\rightarrow \\text{Expected downturn in the market} \\rightarrow \\text{Short Postion} \\end{cases}$\n",
    "\n",
    "$p(t)$ DJIA closing price\n",
    "\n",
    "$n(t-1)$ number of searches that have been carried out in Google Trends in week $t-1$\n",
    "\n",
    "<p style =\"text-align:center\"> $\\Delta n(t, \\Delta t ) = n(t) - N(t-1, \\Delta t)$ </p>\n",
    "\n",
    "<p style =\"text-align:center\"> $N(t-1, \\Delta t) = \\frac{(n(t-1) + n(t-2) + ... + n(t- \\Delta t))}{\\Delta t}$ </p>\n",
    "\n",
    "<p style =\"text-align:center\"> $\\Delta t = 3 \\text{number of weeks}$ </p>"
   ]
  }
 ],
 "metadata": {
  "kernelspec": {
   "display_name": "R",
   "language": "R",
   "name": "ir"
  },
  "language_info": {
   "codemirror_mode": "r",
   "file_extension": ".r",
   "mimetype": "text/x-r-source",
   "name": "R",
   "pygments_lexer": "r",
   "version": "3.6.1"
  }
 },
 "nbformat": 4,
 "nbformat_minor": 2
}
