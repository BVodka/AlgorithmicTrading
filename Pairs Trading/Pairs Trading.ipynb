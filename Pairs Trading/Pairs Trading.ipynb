{
 "cells": [
  {
   "cell_type": "markdown",
   "metadata": {},
   "source": [
    "# Pairs Trading\n",
    "\n",
    "Trading correlated stocks means trading a pair of stocks that are highly correlated , i.e. the stocks move in the same direction most of the situations. **Trading opportunities** arise when the two stocks move temporarily in the opposite directions, i.e. the have weakened correlation for that particular period\n",
    "\n",
    "$\\Rightarrow$ *one stock $\\uparrow$, the other stock $\\downarrow$.*\n",
    "\n",
    "**Pairs Trading Strategy:** Short the outperforming stock and long the underperforming stock.\n",
    "\n",
    "**Same sector stocks:** pairs trading is usually done with stocks from compaies within the same sectors.\n",
    "\n",
    "- Coca-Cola(KO) and PepsiCo(PEP)\n",
    "\n",
    "- Renault(RNL) and PSA Peugot Citroen (UG)\n",
    "\n",
    "- Exxon Mobil(XOM) and Chevron Corporatin(CVX)\n",
    "\n",
    "The strategy requires market timing and decision taking skills.\n",
    "**Downside risk** hoever is not so hugh as it can be implemented as an algorithmic trading strategy.\n",
    "\n",
    "**Stock Price Evolution:** is hard to forecast *but* the spread between two correlated stocks is easier to predict.\n",
    "\n",
    "- The spread can be a stationary time series, therefore a trader can use an **ARMA** model to predict the spread\n",
    "\n",
    "- The spread can also be traded separately\n",
    "\n",
    "- There may ne a cointergrating relationship between the two stocks, considering the high correlation coefficient.\n",
    "\n",
    "- If two stocks are highly correlated that does not mean they will remain highly correlated in the long run, i.e. their correlation may weakin in time."
   ]
  }
 ],
 "metadata": {
  "kernelspec": {
   "display_name": "R",
   "language": "R",
   "name": "ir"
  },
  "language_info": {
   "codemirror_mode": "r",
   "file_extension": ".r",
   "mimetype": "text/x-r-source",
   "name": "R",
   "pygments_lexer": "r",
   "version": "3.6.1"
  }
 },
 "nbformat": 4,
 "nbformat_minor": 2
}
