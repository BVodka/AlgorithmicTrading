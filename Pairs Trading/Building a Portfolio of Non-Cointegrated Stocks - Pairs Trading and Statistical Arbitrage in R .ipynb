{
 "cells": [
  {
   "cell_type": "markdown",
   "metadata": {},
   "source": [
    "# Building a Portfolio - Pairs Trading and Statistical Arbitrage in R \n",
    "\n",
    "## Motivation\n",
    "\n",
    "**Goal:** Buy the *undervalued* security while short-selling the *overvalued* security, all while maintaining market neutrality.\n",
    "\n",
    "**Companies:** in the same sector that are likely to be exposed to similar market factors. Occasionally, their relative stock prices will diverge due to certain events, however, they will revert to the long-run mean, i.e. mean-reverting stocks.\n",
    "\n",
    "**Systematic Risk and Market-Neutral Strategies:** pairs trading can reduce the market risk, as two risky positions taken together can effectively eliminate market risk.\n",
    "\n",
    "**Example of Pairs:** \n",
    "\n",
    "- Commodities (gold and the stock of gold mines, oil and the stocks of oil producer companies)\n",
    "\n",
    "## Correlation in R"
   ]
  },
  {
   "cell_type": "code",
   "execution_count": 17,
   "metadata": {},
   "outputs": [
    {
     "name": "stderr",
     "output_type": "stream",
     "text": [
      "Warning message:\n",
      "\"package 'roll' was built under R version 3.6.2\""
     ]
    }
   ],
   "source": [
    "library(tseries)\n",
    "library(quantmod)\n",
    "library(PerformanceAnalytics)\n",
    "library(urca)\n",
    "library(roll)"
   ]
  },
  {
   "cell_type": "markdown",
   "metadata": {},
   "source": [
    "### Build a Portfolio with Two Stocks (PEP, KO) \n",
    "\n",
    "Get the data from Yahoo Finance"
   ]
  },
  {
   "cell_type": "code",
   "execution_count": 24,
   "metadata": {
    "scrolled": true
   },
   "outputs": [
    {
     "data": {
      "text/plain": [
       "           PEP.Open PEP.High PEP.Low PEP.Close PEP.Volume PEP.Adjusted\n",
       "2007-01-03    62.70    63.35   62.45     62.72    6161600     42.84473\n",
       "2007-01-04    62.70    63.25   62.50     63.15    5414300     43.13848\n",
       "2007-01-05    62.70    63.22   62.70     62.95    4542400     43.00184\n",
       "2007-01-08    63.00    63.27   62.86     63.09    6122600     43.09748\n",
       "2007-01-09    63.05    63.47   63.01     63.35    4916500     43.27508\n",
       "2007-01-10    63.00    64.29   62.29     64.15    6427100     43.82156"
      ]
     },
     "metadata": {},
     "output_type": "display_data"
    }
   ],
   "source": [
    "# Pepsi and Coca-Cola Stocks\n",
    "\n",
    "my_portfolio <- c(\"PEP\", \"KO\")\n",
    "\n",
    "# Apply the get symbols on the list of company tickers\n",
    "stocks <- lapply(my_portfolio, getSymbols, auto.assign = FALSE)\n",
    "\n",
    "# Assign as index names of the stocks the list of company tickers\n",
    "names(stocks) <- my_portfolio\n",
    "\n",
    "head(stocks$PEP)"
   ]
  },
  {
   "cell_type": "markdown",
   "metadata": {},
   "source": [
    "**Adjusted closing price** get from the datasets\n",
    "\n",
    "**Returns** create a data series for each stock with their respective daily returns"
   ]
  },
  {
   "cell_type": "code",
   "execution_count": 26,
   "metadata": {},
   "outputs": [
    {
     "data": {
      "text/plain": [
       "           Pepsi Returns\n",
       "2007-01-03   0.000000000\n",
       "2007-01-04   0.006856153\n",
       "2007-01-05  -0.003167358\n",
       "2007-01-08   0.002223974\n",
       "2007-01-09   0.004121007\n",
       "2007-01-10   0.012628099"
      ]
     },
     "metadata": {},
     "output_type": "display_data"
    }
   ],
   "source": [
    "# Adjusted close of Pepsi\n",
    "pep <- stocks[[my_portfolio[1]]][,6]\n",
    "\n",
    "# Adjusted close of Coca-Cola\n",
    "ko <- stocks[[my_portfolio[2]]][,6]\n",
    "\n",
    "# Get return Pepsi\n",
    "return_pep <- dailyReturn(pep, type = \"arithmetic\")\n",
    "\n",
    "# Get return Coca-Cola\n",
    "return_ko <- dailyReturn(ko, type = \"arithmetic\")\n",
    "\n",
    "# Set the column names of the two stocks\n",
    "colnames(return_pep) = \"Pepsi Returns\"\n",
    "colnames(return_ko) = \"Coca-Cola Returns\"\n",
    "\n",
    "head(return_pep)"
   ]
  },
  {
   "cell_type": "markdown",
   "metadata": {},
   "source": [
    "**Calculate the correlation** between the two stocks\n",
    "\n",
    "**plot the cumulative returns** by using the combined data set"
   ]
  },
  {
   "cell_type": "code",
   "execution_count": 32,
   "metadata": {},
   "outputs": [
    {
     "data": {
      "text/html": [
       "<table>\n",
       "<thead><tr><th></th><th scope=col>Pepsi Returns</th></tr></thead>\n",
       "<tbody>\n",
       "\t<tr><th scope=row>Coca-Cola Returns</th><td>0.6802405</td></tr>\n",
       "</tbody>\n",
       "</table>\n"
      ],
      "text/latex": [
       "\\begin{tabular}{r|l}\n",
       "  & Pepsi Returns\\\\\n",
       "\\hline\n",
       "\tCoca-Cola Returns & 0.6802405\\\\\n",
       "\\end{tabular}\n"
      ],
      "text/markdown": [
       "\n",
       "| <!--/--> | Pepsi Returns |\n",
       "|---|---|\n",
       "| Coca-Cola Returns | 0.6802405 |\n",
       "\n"
      ],
      "text/plain": [
       "                  Pepsi Returns\n",
       "Coca-Cola Returns 0.6802405    "
      ]
     },
     "metadata": {},
     "output_type": "display_data"
    },
    {
     "data": {
      "image/png": "[encoded data removed]",
      "text/plain": [
       "plot without title"
      ]
     },
     "metadata": {},
     "output_type": "display_data"
    }
   ],
   "source": [
    "# Calculate the Covariance\n",
    "cor(return_ko, return_pep)\n",
    "\n",
    "# Plot the daily returns\n",
    "chart.CumReturns(cbind(return_ko, return_pep), main = \"Cumulative Returns - KO,PEP\",\n",
    "                legend.loc = \"topleft\")"
   ]
  },
  {
   "cell_type": "markdown",
   "metadata": {},
   "source": [
    "Given the cumulative returns chart, there is a degree of correlation between the two assets and as we can see from our calculations, the correlation is: $\\rho = 0.6816855$, therefore, there is positive correlation between the two assets.\n",
    "\n",
    "## Cointegration Analysis\n",
    "\n",
    "We are interested in the long-term relationship betwen the two assets, therefore, we look for the co-movement or cointegrating relationship.\n",
    "\n",
    "**Goal:** to make sure that the paired assets prices spread mean is constant through time.\n",
    "\n",
    "<p style=\"text-align:center;\"> $\\text{Linear Regression: } s_t = y_t - \\beta x_t$ </p>\n",
    "\n",
    "So we us the Pepsi ($x_t$) adjusted closing prices and the Coca-Cola ($y_t$) adjusted closing prices in the regression. Given the high correlation coefficient, there is some linear relationship between the prices and **the $\\beta$ value is the result of the regression.**\n",
    "\n",
    "**Calculating the spread** we can calculate the *s* spread based on the formula above.\n",
    "\n",
    "- If we consider the spread, it performs periodical oscillations around some mean value\n",
    "- Using this pair, we know that the spread will return to its average value with high probability\n",
    "\n",
    "### XTS:\n",
    "\n",
    "Create Or Test For An xts Time-Series Object Description.\n",
    "\n",
    "Constructor function for creating an extensible time-series object.\n",
    "\n",
    "xts is used to create an xts object from raw data inputs.\n",
    "\n",
    "**Usage:**\n",
    "\n",
    "```\n",
    "xts(x = NULL,\n",
    "    order.by = index(x),\n",
    "    frequency = NULL,\n",
    "    unique = TRUE,\n",
    "    tzone = Sys.getenv(\"TZ\"),\n",
    "    ...)\n",
    "\n",
    "is.xts(x)\n",
    "```\n",
    "**Arguments:**\n",
    "\n",
    "```x```\t an object containing the time series data\n",
    "\n",
    "```order.by``` a corresponding vector of unique times/dates - must be of a known time-based class. See details.\n",
    "\n",
    "```frequency```\t numeric indicating frequency of order.by. See details.\n",
    "\n",
    "```unique```\t should index be checked for unique time-stamps?\n",
    "\n",
    "```tzone```\t time zone of series. This is ignored for Date indices\n",
    "\n",
    "```...``` additional attributes to be added. See details.\n",
    "\n",
    "\n",
    "**In this case:**\n",
    "\n",
    "the ```x``` will be equal to the mean of the spread, repeated as many times as the length of the spread array."
   ]
  },
  {
   "cell_type": "code",
   "execution_count": 39,
   "metadata": {},
   "outputs": [
    {
     "data": {
      "text/plain": [
       "                 [,1]\n",
       "2007-01-03 0.00909688\n",
       "2007-01-04 0.00909688\n",
       "2007-01-05 0.00909688\n",
       "2007-01-08 0.00909688\n",
       "2007-01-09 0.00909688\n",
       "2007-01-10 0.00909688"
      ]
     },
     "metadata": {},
     "output_type": "display_data"
    }
   ],
   "source": [
    "# The spread can be calculated based on Linear Regression\n",
    "spread <- pep - lm(pep ~ 0 + ko)$coefficients[1]*ko\n",
    "\n",
    "# There is some oscillation around the mean of the spread\n",
    "## This creates a vector of identical spread means\n",
    "spread_mean <- xts(rep(mean(spread), length(spread)), order.by=as.Date(index(spread)))\n",
    "head(spread_mean)"
   ]
  },
  {
   "cell_type": "markdown",
   "metadata": {},
   "source": [
    "### Plot the Spread"
   ]
  },
  {
   "cell_type": "code",
   "execution_count": 43,
   "metadata": {},
   "outputs": [
    {
     "data": {
      "image/png": "[encoded data removed]",
      "text/plain": [
       "plot without title"
      ]
     },
     "metadata": {},
     "output_type": "display_data"
    }
   ],
   "source": [
    "# Plotting the spread and its mean\n",
    "plot(cbind(spread, spread_mean), main = \"Pepsi and Cola-Cola Spread\")"
   ]
  },
  {
   "cell_type": "markdown",
   "metadata": {},
   "source": [
    "## Using Engle-Granger Cointegration Test\n",
    "\n",
    "To test whether two paired assets' prices linear regression residuals, **i.e. the spread** are stationary. \n",
    "\n",
    "- Since the single stock prices (PEP and KO) are non-stationary\n",
    "    - we have to make sure their spread is stationary (asset's price differences)\n",
    "    \n",
    "### ADF Test:\n",
    "\n",
    "**IF $\\beta$ IS KNOWN:**"
   ]
  },
  {
   "cell_type": "code",
   "execution_count": 44,
   "metadata": {},
   "outputs": [
    {
     "data": {
      "text/plain": [
       "\n",
       "\tAugmented Dickey-Fuller Test\n",
       "\n",
       "data:  spread\n",
       "Dickey-Fuller = -2.2338, Lag order = 14, p-value = 0.4793\n",
       "alternative hypothesis: stationary\n"
      ]
     },
     "metadata": {},
     "output_type": "display_data"
    },
    {
     "data": {
      "text/plain": [
       "\n",
       "\tPhillips-Perron Unit Root Test\n",
       "\n",
       "data:  spread\n",
       "Dickey-Fuller Z(alpha) = -8.93, Truncation lag parameter = 28, p-value\n",
       "= 0.6117\n",
       "alternative hypothesis: stationary\n"
      ]
     },
     "metadata": {},
     "output_type": "display_data"
    }
   ],
   "source": [
    "# Augmented Dickey Fuller Test\n",
    "adf.test(spread)\n",
    "# Phillips-Perron Test\n",
    "pp.test(spread, lshort=F)"
   ]
  },
  {
   "cell_type": "markdown",
   "metadata": {},
   "source": [
    "## Conclusion\n",
    "\n",
    "The p-values of both tests indicate no cointegration since they do not reject the initial hypothesis as they are greater than $0.05$"
   ]
  }
 ],
 "metadata": {
  "kernelspec": {
   "display_name": "R",
   "language": "R",
   "name": "ir"
  },
  "language_info": {
   "codemirror_mode": "r",
   "file_extension": ".r",
   "mimetype": "text/x-r-source",
   "name": "R",
   "pygments_lexer": "r",
   "version": "3.6.1"
  }
 },
 "nbformat": 4,
 "nbformat_minor": 2
}
